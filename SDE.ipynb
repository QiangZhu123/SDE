{
 "cells": [
  {
   "cell_type": "code",
   "execution_count": 32,
   "id": "c9f59a3d",
   "metadata": {},
   "outputs": [],
   "source": [
    "from torch import nn\n",
    "import torch\n",
    "import numpy as np\n",
    "from Unet import UNet"
   ]
  },
  {
   "cell_type": "code",
   "execution_count": 7,
   "id": "26d0a45b",
   "metadata": {},
   "outputs": [],
   "source": [
    "model = UNet(in_channels=3, out_channels=3)"
   ]
  },
  {
   "cell_type": "code",
   "execution_count": 124,
   "id": "d1b50b77",
   "metadata": {},
   "outputs": [],
   "source": [
    "class Diffusion(nn.Module):\n",
    "    def __init__(self,config,\n",
    "                score_model,):\n",
    "        super().__init__()\n",
    "        \n",
    "        self.config = config\n",
    "        self.score_model = model\n",
    "        self.T = config['Time']\n",
    "        self.M = 10\n",
    "        self.alpha =np.sqrt(1 - 0.02 * np.arange(1, self.T + 1) / self.T)\n",
    "        self.beta = np.sqrt(1 - self.alpha**2)\n",
    "        self.bar_alpha = np.cumprod(self.alpha)\n",
    "        self.bar_beta = np.sqrt(1 - self.bar_alpha**2)\n",
    "        self.sigma = self.beta.copy()\n",
    "    def forward(self,x_t,t):\n",
    "        \n",
    "        return self.score_model(x_t,t)\n",
    "    \n",
    "    def forward_train(self,x_0,t):\n",
    "        output = self.margin_pt(x_0,t)\n",
    "        shape = x_0.shape\n",
    "        z= self.target_distribut(*shape)\n",
    "        label = self.creat_label(z)\n",
    "        loss =self.model.loss(output,label)\n",
    "        return loss\n",
    "    def margin_pt(self,x_0,t):\n",
    "\n",
    "        shape = x_0.shape\n",
    "        z = torch.rand(*shape)\n",
    "        x_t  = np.sqrt(self.bar_beta[t])*x_0 + z*np.sqrt(1-self.bar_beta[t])  \n",
    "        return x_t \n",
    "    \n",
    "    def noise(self,x_0):\n",
    "        shape = x_0.shape\n",
    "        pre_t= 0\n",
    "        for t in range(1,self.T+1):\n",
    "            theta = torch.rand(*shape)\n",
    "            x_0 +=self.f_x_t(x_0,t)*(t-pre_t) +np.sqrt(self.g_t(t))*noise\n",
    "            pre_t = t\n",
    "        return x_0\n",
    "    \n",
    "    \n",
    "    def denoise(self,x_T):\n",
    "        shape = x_T.shape\n",
    "        pre_t= self.T\n",
    "        for t in reversed(range(self.T)):\n",
    "            z = torch.rand(*shape)\n",
    "            \n",
    "            gtdw = np.sqrt(self.g_t(t))*z\n",
    "            x_T +=(self.f_x_t(x_T,t)-self.g_t(t)*self.g_t(t)*self.score_model(x_T,t))*(pre_t-t) +gtdw\n",
    "            pre_t = t\n",
    "            \n",
    "            score = self.score_model(x_T,t)\n",
    "            for j in range(1,self.M):\n",
    "                z = torch.rand(*shape)\n",
    "                x_T +=self.sigma[t]*score +torch.sqrt(2*self.sigma[i]* z)\n",
    "            \n",
    "        return x_T\n",
    "    \n",
    "    def denoise_ode(self,x_T):\n",
    "        shape = x_T.shape\n",
    "        pre_t= self.T\n",
    "        for t in reversed(range(self.T)):\n",
    "            theta = torch.rand(*shape)\n",
    "            x_T +=(self.f_x_t(x,t)-self.g_t(t)*self.g_t(t)*self.score_model(x_T,t))*(pre_t-t) \n",
    "            pre_t = t\n",
    "            for j in range(1,self.M):\n",
    "                theta = torch.rand(*shape)\n",
    "        return x_T\n",
    "    def f_x_t(self,x,t):\n",
    "        return 0\n",
    "    def g_t(self,t):\n",
    "        return 0\n",
    "    def creat_label(self,noise):\n",
    "        return noise\n",
    "    def target_distribut(self,*shape):\n",
    "        return torch.rand(shape)"
   ]
  },
  {
   "cell_type": "code",
   "execution_count": 125,
   "id": "ebdf9717",
   "metadata": {},
   "outputs": [],
   "source": [
    "#模型自选\n",
    "#DDPM\n",
    "def ddpm_f_x_t(self,x,t):\n",
    "    return -0.5*x* self.beta[t]\n",
    "def ddpm_g_t(self,t):\n",
    "    return np.sqrt(self.beta[t])\n",
    "Diffusion.f_x_t=ddpm_f_x_t\n",
    "Diffusion.g_t= ddpm_g_t\n",
    "ddpm =Diffusion({'Time':2},model)\n"
   ]
  },
  {
   "cell_type": "code",
   "execution_count": 132,
   "id": "1da9c04b",
   "metadata": {},
   "outputs": [],
   "source": [
    "#SMDL\n",
    "def smdl_f_x_t(self,x,t):\n",
    "    return 0\n",
    "def smdl_g_t(self,t):\n",
    "    ratio = self.config['theta_max']/self.config['theta_min']\n",
    "    weight=self.config['theta_min']*(ratio)**(t/self.config['Time'])\n",
    "    part = np.sqrt(2*np.log(ratio))\n",
    "    return weight*part\n",
    "Diffusion.f_x_t=smdl_f_x_t\n",
    "Diffusion.g_t= smdl_g_t\n",
    "diff_model =Diffusion({'Time':2,'theta_max':0.1,'theta_min':0.001},model)"
   ]
  },
  {
   "cell_type": "code",
   "execution_count": 133,
   "id": "57aa808b",
   "metadata": {},
   "outputs": [
    {
     "data": {
      "text/plain": [
       "0.03034854258770293"
      ]
     },
     "execution_count": 133,
     "metadata": {},
     "output_type": "execute_result"
    }
   ],
   "source": [
    "optimizer = torch.optim.Adam(model.parameters(),lr=0.001,weight_decay=0.99)\n",
    "learn_scheduler = torch.optim.lr_scheduler.CosineAnnealingLR(optimizer,T_max=10)\n",
    "\n",
    "#计算能力决定数据集的设置\n",
    "pipe = Compose([transforms.Resize([224,224]),\n",
    "               transforms.ToTensor(),\n",
    "               ])\n",
    "dataset = ImageFolder(path,\n",
    "                      transform=pipe,)\n",
    "dataloader = DataLoader(dataset,\n",
    "                        batch_size=4,\n",
    "                        shuffle=True,\n",
    "                        pin_memory=True)"
   ]
  },
  {
   "cell_type": "code",
   "execution_count": null,
   "id": "5e869682",
   "metadata": {},
   "outputs": [],
   "source": [
    "epoches = 20\n",
    "\n",
    "for i in range(epoches):\n",
    "    \n",
    "    for data in dataloader:\n",
    "        image,_= data\n",
    "        bs=image.shape[0]\n",
    "        optimizer.zero_grad()\n",
    "        t = torch.randint(diff_model.config['Time'],(bs,1,1,1))\n",
    "        noise = torch.rand(*image.shape)\n",
    "        \n",
    "        output = diff_model(noise,t)\n",
    "        label = diff_model.creat_label(noise)\n",
    "        loss = diff_model.score_model.loss(output,label)\n",
    "        \n",
    "        loss.backward()\n",
    "        optimizer.step()\n",
    "        learn_scheduler.step()\n",
    "        print('finish one iter')# 具体需要可视化讯息可以设置\n",
    "    "
   ]
  },
  {
   "cell_type": "code",
   "execution_count": null,
   "id": "bddf42ba",
   "metadata": {},
   "outputs": [],
   "source": []
  },
  {
   "cell_type": "code",
   "execution_count": null,
   "id": "9bcb7b74",
   "metadata": {},
   "outputs": [],
   "source": []
  },
  {
   "cell_type": "code",
   "execution_count": null,
   "id": "21fe4bef",
   "metadata": {},
   "outputs": [],
   "source": []
  }
 ],
 "metadata": {
  "kernelspec": {
   "display_name": "Python 3 (ipykernel)",
   "language": "python",
   "name": "python3"
  },
  "language_info": {
   "codemirror_mode": {
    "name": "ipython",
    "version": 3
   },
   "file_extension": ".py",
   "mimetype": "text/x-python",
   "name": "python",
   "nbconvert_exporter": "python",
   "pygments_lexer": "ipython3",
   "version": "3.10.0"
  }
 },
 "nbformat": 4,
 "nbformat_minor": 5
}
